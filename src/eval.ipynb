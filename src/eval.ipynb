{
 "cells": [
  {
   "cell_type": "code",
   "execution_count": 82,
   "id": "ed6cfeb1",
   "metadata": {},
   "outputs": [
    {
     "name": "stdout",
     "output_type": "stream",
     "text": [
      "The autoreload extension is already loaded. To reload it, use:\n",
      "  %reload_ext autoreload\n"
     ]
    }
   ],
   "source": [
    "from collections import OrderedDict\n",
    "import re\n",
    "import os\n",
    "\n",
    "import matplotlib.pyplot as plt\n",
    "import pandas as pd\n",
    "import seaborn as sns\n",
    "import torch\n",
    "from tqdm.notebook import tqdm\n",
    "import random\n",
    "import string\n",
    "\n",
    "from eval import get_run_metrics, read_run_dir, get_model_from_run\n",
    "from plot_utils import basic_plot, collect_results, relevant_model_names\n",
    "\n",
    "%matplotlib inline\n",
    "%load_ext autoreload\n",
    "%autoreload 2\n",
    "\n",
    "sns.set_theme('notebook', 'darkgrid')\n",
    "palette = sns.color_palette('colorblind')\n",
    "\n",
    "run_dir = \"../models\""
   ]
  },
  {
   "cell_type": "code",
   "execution_count": 83,
   "id": "0e8d018b",
   "metadata": {
    "scrolled": true
   },
   "outputs": [],
   "source": [
    "df = read_run_dir(run_dir)\n",
    "# df  # list all the runs in our run_dir"
   ]
  },
  {
   "cell_type": "code",
   "execution_count": 84,
   "id": "a9980951",
   "metadata": {},
   "outputs": [],
   "source": [
    "task = \"seq_relu_2nn\"\n",
    "#task = \"sparse_linear_regression\"\n",
    "#task = \"decision_tree\"\n",
    "#task = \"relu_2nn_regression\"\n",
    "\n",
    "run_id = \"84d6d60f-ec2f-4dff-a947-3a0bbc668579\"  # if you train more models, replace with the run_id from the table above\n",
    "\n",
    "run_path = os.path.join(run_dir, task, run_id)\n",
    "recompute_metrics = False\n",
    "\n",
    "if recompute_metrics:\n",
    "    # question: is this with the test set? -- i think so\n",
    "    get_run_metrics(run_path)  # these are normally precomputed at the end of training"
   ]
  },
  {
   "cell_type": "code",
   "execution_count": 85,
   "metadata": {},
   "outputs": [],
   "source": [
    "def save_current_figure(folder_path, file_name):\n",
    "    if not os.path.exists(\"plots\"):\n",
    "        os.makedirs(\"plots\")\n",
    "    folder_path = \"plots/\" + folder_path\n",
    "    if not os.path.exists(folder_path):\n",
    "        os.makedirs(folder_path)\n",
    "    file_path = os.path.join(folder_path, file_name)\n",
    "    plt.savefig(file_path)\n",
    "    plt.close()\n",
    "\n",
    "def generate_random_string(length=8):\n",
    "    letters_and_digits = string.ascii_letters + string.digits\n",
    "    random_string = ''.join(random.choice(letters_and_digits) for _ in range(length))\n",
    "    return random_string"
   ]
  },
  {
   "cell_type": "code",
   "execution_count": 86,
   "metadata": {},
   "outputs": [],
   "source": [
    "fig_output_dir = run_id + \"_\" + task + \"_\" + generate_random_string()"
   ]
  },
  {
   "cell_type": "markdown",
   "id": "f6d09964",
   "metadata": {},
   "source": [
    "# Plot pre-computed metrics"
   ]
  },
  {
   "cell_type": "code",
   "execution_count": 87,
   "id": "cd8e02c5",
   "metadata": {
    "scrolled": false
   },
   "outputs": [
    {
     "name": "stdout",
     "output_type": "stream",
     "text": [
      "seq_relu_2nn 84d6d60f-ec2f-4dff-a947-3a0bbc668579\n"
     ]
    },
    {
     "name": "stderr",
     "output_type": "stream",
     "text": [
      "100%|██████████| 1/1 [00:00<00:00, 10180.35it/s]"
     ]
    },
    {
     "name": "stdout",
     "output_type": "stream",
     "text": [
      "metrics: {'standard': {'gpt2_embd=256_layer=12_head=8': {'mean': [1.396275520324707, 0.9283073544502258, 0.663762092590332, 0.545851469039917, 0.44853219389915466, 0.39094048738479614, 0.34446796774864197, 0.3261101245880127, 0.30592864751815796, 0.2946743369102478, 0.28255924582481384, 0.2661673128604889, 0.2556600570678711, 0.2476571798324585, 0.2470065802335739], 'std': [0.22959688305854797, 0.26753509044647217, 0.2560630440711975, 0.2647823095321655, 0.27050766348838806, 0.28982800245285034, 0.29645153880119324, 0.3153879642486572, 0.31255748867988586, 0.31753912568092346, 0.31786537170410156, 0.31110402941703796, 0.3105201721191406, 0.31684181094169617, 0.3303878903388977], 'bootstrap_low': [1.3861088752746582, 0.9162003397941589, 0.6523714065551758, 0.5343927145004272, 0.43673959374427795, 0.378404438495636, 0.3322207033634186, 0.3128621578216553, 0.29243478178977966, 0.2809414267539978, 0.26861992478370667, 0.2523190379142761, 0.24216601252555847, 0.23341231048107147, 0.23194172978401184], 'bootstrap_high': [1.406764030456543, 0.940417468547821, 0.6756483912467957, 0.5582191348075867, 0.4608742594718933, 0.403758704662323, 0.35780176520347595, 0.3415650427341461, 0.32099390029907227, 0.30932220816612244, 0.2971575856208801, 0.2822303771972656, 0.2714965045452118, 0.2629327178001404, 0.2632214426994324]}}}\n",
      "{'Transformer': {'mean': [0.1396275520324707, 0.09283073544502259, 0.0663762092590332, 0.0545851469039917, 0.04485321938991547, 0.03909404873847962, 0.034446796774864195, 0.03261101245880127, 0.030592864751815795, 0.02946743369102478, 0.028255924582481384, 0.02661673128604889, 0.02556600570678711, 0.02476571798324585, 0.024700658023357393], 'std': [0.0229596883058548, 0.026753509044647218, 0.02560630440711975, 0.026478230953216553, 0.027050766348838805, 0.028982800245285035, 0.029645153880119325, 0.03153879642486572, 0.031255748867988584, 0.031753912568092346, 0.031786537170410155, 0.031110402941703797, 0.031052017211914064, 0.031684181094169615, 0.03303878903388977], 'bootstrap_low': [0.1386108875274658, 0.0916200339794159, 0.06523714065551758, 0.05343927145004272, 0.04367395937442779, 0.0378404438495636, 0.033222070336341857, 0.031286215782165526, 0.029243478178977968, 0.02809414267539978, 0.026861992478370667, 0.02523190379142761, 0.02421660125255585, 0.023341231048107147, 0.023194172978401185], 'bootstrap_high': [0.1406764030456543, 0.0940417468547821, 0.06756483912467956, 0.05582191348075867, 0.04608742594718933, 0.0403758704662323, 0.035780176520347595, 0.034156504273414615, 0.03209939002990723, 0.030932220816612243, 0.029715758562088013, 0.028223037719726562, 0.02714965045452118, 0.02629327178001404, 0.026322144269943237]}}\n"
     ]
    },
    {
     "name": "stderr",
     "output_type": "stream",
     "text": [
      "\n"
     ]
    },
    {
     "data": {
      "image/png": "[encoded data removed]",
      "text/plain": [
       "<Figure size 400x300 with 1 Axes>"
      ]
     },
     "metadata": {},
     "output_type": "display_data"
    }
   ],
   "source": [
    "def valid_row(r):\n",
    "    return r.task == task and r.run_id == run_id\n",
    "\n",
    "metrics = collect_results(run_dir, df, valid_row=valid_row)\n",
    "_, conf = get_model_from_run(run_path, only_conf=True)\n",
    "n_dims = conf.model.n_dims\n",
    "\n",
    "models = relevant_model_names[task]\n",
    "basic_plot(metrics[\"standard\"], models=models)\n",
    "plt.show()\n",
    "save_current_figure(fig_output_dir, \"eval_on_all_models\")"
   ]
  },
  {
   "cell_type": "code",
   "execution_count": 20,
   "id": "31b4ecca",
   "metadata": {
    "scrolled": true
   },
   "outputs": [],
   "source": [
    "# plot any OOD metrics, out of distribution\n",
    "for name, metric in metrics.items():\n",
    "    if name == \"standard\": continue\n",
    "   \n",
    "    if \"scale\" in name:\n",
    "        scale = float(name.split(\"=\")[-1])**2\n",
    "    else:\n",
    "        scale = 1.0\n",
    "\n",
    "    trivial = 1.0 if \"noisy\" not in name else (1+1/n_dims)\n",
    "    fig, ax = basic_plot(metric, models=models, trivial=trivial * scale)\n",
    "    ax.set_title(name)\n",
    "    \n",
    "    if \"ortho\" in name:\n",
    "        ax.set_xlim(-1, n_dims - 1)\n",
    "    ax.set_ylim(-.1 * scale, 1.5 * scale)\n",
    "\n",
    "    plt.show()\n",
    "    if (\".\" in name):\n",
    "        name = name.replace(\".\", \"\")\n",
    "    save_current_figure(fig_output_dir, \"eval_on_all_models_ood_\" + name)"
   ]
  },
  {
   "cell_type": "markdown",
   "id": "e6f961d4",
   "metadata": {},
   "source": [
    "# Interactive setup\n",
    "\n",
    "We will now directly load the model and measure its in-context learning ability on a batch of random inputs. (In the paper we average over multiple such batches to obtain better estimates.)"
   ]
  },
  {
   "cell_type": "code",
   "execution_count": 21,
   "id": "beb327ce",
   "metadata": {},
   "outputs": [],
   "source": [
    "from samplers import get_data_sampler\n",
    "from tasks import get_task_sampler"
   ]
  },
  {
   "cell_type": "code",
   "execution_count": 22,
   "id": "03523b06",
   "metadata": {},
   "outputs": [],
   "source": [
    "model, conf = get_model_from_run(run_path)\n",
    "\n",
    "n_dims = conf.model.n_dims\n",
    "batch_size = conf.training.batch_size\n",
    "\n",
    "data_sampler = get_data_sampler(conf.training.data, n_dims)\n",
    "task_sampler = get_task_sampler(\n",
    "    conf.training.task,\n",
    "    n_dims,\n",
    "    batch_size,\n",
    "    **conf.training.task_kwargs\n",
    ")"
   ]
  },
  {
   "cell_type": "code",
   "execution_count": 23,
   "metadata": {},
   "outputs": [],
   "source": [
    "def generate_random_ys(num_changes, num_total, y_dim):\n",
    "    \"\"\"\n",
    "    Selects num_changes random indices from the range 0 to num_total - 1.\n",
    "\n",
    "    Args:\n",
    "    - num_total (int): Total number of indices.\n",
    "    - num_changes (int): Number of random indices to select.\n",
    "    - y_dim (int): Dimension of every y value\n",
    "\n",
    "    Returns:\n",
    "    - torch.Tensor: Tensor containing the selected random indices. (of length num_changes)\n",
    "    - torch.Tensor: Tensor containing the new random values at those indices\n",
    "    \"\"\"\n",
    "\n",
    "    if num_changes > num_total:\n",
    "        raise ValueError(\"Number of changes cannot be greater than the total number.\")\n",
    "    \n",
    "    # Generate random indices\n",
    "    random_indices = torch.randint(0, num_total, (num_changes,), dtype=torch.long)\n",
    "    indices_values = torch.rand((num_changes, y_dim))\n",
    "\n",
    "    return random_indices, indices_values\n",
    "\n",
    "SEQ = \"seq\" in task"
   ]
  },
  {
   "cell_type": "markdown",
   "metadata": {},
   "source": []
  },
  {
   "cell_type": "code",
   "execution_count": 24,
   "id": "1d9da7c3",
   "metadata": {},
   "outputs": [
    {
     "name": "stderr",
     "output_type": "stream",
     "text": [
      "/home/ryan/projects/in-context-learning-1/src/tasks.py:465: UserWarning: torch.eig is deprecated in favor of torch.linalg.eig and will be removed in a future PyTorch release.\n",
      "torch.linalg.eig returns complex tensors of dtype cfloat or cdouble rather than real tensors mimicking complex tensors.\n",
      "L, _ = torch.eig(A)\n",
      "should be replaced with\n",
      "L_complex = torch.linalg.eigvals(A)\n",
      "and\n",
      "L, V = torch.eig(A, eigenvectors=True)\n",
      "should be replaced with\n",
      "L_complex, V_complex = torch.linalg.eig(A) (Triggered internally at  /opt/conda/conda-bld/pytorch_1646755903507/work/aten/src/ATen/native/BatchLinearAlgebra.cpp:2910.)\n",
      "  eigenvalues, eigenvectors = torch.eig(w, eigenvectors=True)\n"
     ]
    },
    {
     "ename": "NotImplementedError",
     "evalue": "",
     "output_type": "error",
     "traceback": [
      "\u001b[0;31m---------------------------------------------------------------------------\u001b[0m",
      "\u001b[0;31mNotImplementedError\u001b[0m                       Traceback (most recent call last)",
      "\u001b[1;32m/home/ryan/projects/in-context-learning-1/src/eval.ipynb Cell 14\u001b[0m line \u001b[0;36m3\n\u001b[1;32m      <a href='vscode-notebook-cell://wsl%2Bubuntu/home/ryan/projects/in-context-learning-1/src/eval.ipynb#X16sdnNjb2RlLXJlbW90ZQ%3D%3D?line=0'>1</a>\u001b[0m task \u001b[39m=\u001b[39m task_sampler()\n\u001b[1;32m      <a href='vscode-notebook-cell://wsl%2Bubuntu/home/ryan/projects/in-context-learning-1/src/eval.ipynb#X16sdnNjb2RlLXJlbW90ZQ%3D%3D?line=1'>2</a>\u001b[0m xs \u001b[39m=\u001b[39m data_sampler\u001b[39m.\u001b[39msample_xs(b_size\u001b[39m=\u001b[39mbatch_size, n_points\u001b[39m=\u001b[39mconf\u001b[39m.\u001b[39mtraining\u001b[39m.\u001b[39mcurriculum\u001b[39m.\u001b[39mpoints\u001b[39m.\u001b[39mend)\n\u001b[0;32m----> <a href='vscode-notebook-cell://wsl%2Bubuntu/home/ryan/projects/in-context-learning-1/src/eval.ipynb#X16sdnNjb2RlLXJlbW90ZQ%3D%3D?line=2'>3</a>\u001b[0m ys \u001b[39m=\u001b[39m task\u001b[39m.\u001b[39;49mevaluate(xs)\n\u001b[1;32m      <a href='vscode-notebook-cell://wsl%2Bubuntu/home/ryan/projects/in-context-learning-1/src/eval.ipynb#X16sdnNjb2RlLXJlbW90ZQ%3D%3D?line=4'>5</a>\u001b[0m \u001b[39mif\u001b[39;00m (SEQ):\n\u001b[1;32m      <a href='vscode-notebook-cell://wsl%2Bubuntu/home/ryan/projects/in-context-learning-1/src/eval.ipynb#X16sdnNjb2RlLXJlbW90ZQ%3D%3D?line=5'>6</a>\u001b[0m     num_indices \u001b[39m=\u001b[39m [\u001b[39m4\u001b[39m, \u001b[39m8\u001b[39m, \u001b[39m12\u001b[39m, \u001b[39m16\u001b[39m, \u001b[39m20\u001b[39m, \u001b[39m24\u001b[39m, \u001b[39m28\u001b[39m, \u001b[39m32\u001b[39m, \u001b[39m36\u001b[39m, \u001b[39m40\u001b[39m, \u001b[39m44\u001b[39m, \u001b[39m48\u001b[39m, \u001b[39m52\u001b[39m, \u001b[39m56\u001b[39m, \u001b[39m60\u001b[39m, \u001b[39m64\u001b[39m]\n",
      "File \u001b[0;32m~/projects/in-context-learning-1/src/tasks.py:54\u001b[0m, in \u001b[0;36mTask.evaluate\u001b[0;34m(self, xs)\u001b[0m\n\u001b[1;32m     53\u001b[0m \u001b[39mdef\u001b[39;00m \u001b[39mevaluate\u001b[39m(\u001b[39mself\u001b[39m, xs):\n\u001b[0;32m---> 54\u001b[0m     \u001b[39mraise\u001b[39;00m \u001b[39mNotImplementedError\u001b[39;00m\n",
      "\u001b[0;31mNotImplementedError\u001b[0m: "
     ]
    }
   ],
   "source": [
    "task = task_sampler()\n",
    "xs = data_sampler.sample_xs(b_size=batch_size, n_points=conf.training.curriculum.points.end)\n",
    "ys = task.evaluate(xs)\n",
    "\n",
    "if (SEQ):\n",
    "    num_indices = [4, 8, 12, 16, 20, 24, 28, 32, 36, 40, 44, 48, 52, 56, 60, 64]\n",
    "    randomized_ys_array = []\n",
    "\n",
    "    for num_changes in num_indices:\n",
    "        randomized_ys = ys.clone()\n",
    "        random_indices, indices_values = generate_random_ys(num_changes, randomized_ys.shape[0], randomized_ys.shape[1])\n",
    "        randomized_ys[random_indices] = indices_values\n",
    "\n",
    "        randomized_ys_array.append(randomized_ys)"
   ]
  },
  {
   "cell_type": "code",
   "execution_count": 25,
   "id": "cb69ddda",
   "metadata": {},
   "outputs": [
    {
     "ename": "NameError",
     "evalue": "name 'ys' is not defined",
     "output_type": "error",
     "traceback": [
      "\u001b[0;31m---------------------------------------------------------------------------\u001b[0m",
      "\u001b[0;31mNameError\u001b[0m                                 Traceback (most recent call last)",
      "\u001b[1;32m/home/ryan/projects/in-context-learning-1/src/eval.ipynb Cell 15\u001b[0m line \u001b[0;36m2\n\u001b[1;32m      <a href='vscode-notebook-cell://wsl%2Bubuntu/home/ryan/projects/in-context-learning-1/src/eval.ipynb#X20sdnNjb2RlLXJlbW90ZQ%3D%3D?line=0'>1</a>\u001b[0m \u001b[39mwith\u001b[39;00m torch\u001b[39m.\u001b[39mno_grad():\n\u001b[0;32m----> <a href='vscode-notebook-cell://wsl%2Bubuntu/home/ryan/projects/in-context-learning-1/src/eval.ipynb#X20sdnNjb2RlLXJlbW90ZQ%3D%3D?line=1'>2</a>\u001b[0m     pred \u001b[39m=\u001b[39m model(xs, ys)\n\u001b[1;32m      <a href='vscode-notebook-cell://wsl%2Bubuntu/home/ryan/projects/in-context-learning-1/src/eval.ipynb#X20sdnNjb2RlLXJlbW90ZQ%3D%3D?line=3'>4</a>\u001b[0m \u001b[39mif\u001b[39;00m SEQ:\n\u001b[1;32m      <a href='vscode-notebook-cell://wsl%2Bubuntu/home/ryan/projects/in-context-learning-1/src/eval.ipynb#X20sdnNjb2RlLXJlbW90ZQ%3D%3D?line=4'>5</a>\u001b[0m     randomized_pred_array \u001b[39m=\u001b[39m []\n",
      "\u001b[0;31mNameError\u001b[0m: name 'ys' is not defined"
     ]
    }
   ],
   "source": [
    "with torch.no_grad():\n",
    "    pred = model(xs, ys)\n",
    "\n",
    "if SEQ:\n",
    "    randomized_pred_array = []\n",
    "    for randomized_ys in randomized_ys_array:\n",
    "        with torch.no_grad():\n",
    "            randomized_pred = model(xs, randomized_ys)\n",
    "            randomized_pred_array.append(randomized_pred)"
   ]
  },
  {
   "cell_type": "markdown",
   "metadata": {},
   "source": []
  },
  {
   "cell_type": "code",
   "execution_count": 26,
   "id": "2aa97fa5",
   "metadata": {},
   "outputs": [
    {
     "ename": "NameError",
     "evalue": "name 'pred' is not defined",
     "output_type": "error",
     "traceback": [
      "\u001b[0;31m---------------------------------------------------------------------------\u001b[0m",
      "\u001b[0;31mNameError\u001b[0m                                 Traceback (most recent call last)",
      "\u001b[1;32m/home/ryan/projects/in-context-learning-1/src/eval.ipynb Cell 17\u001b[0m line \u001b[0;36m3\n\u001b[1;32m      <a href='vscode-notebook-cell://wsl%2Bubuntu/home/ryan/projects/in-context-learning-1/src/eval.ipynb#X22sdnNjb2RlLXJlbW90ZQ%3D%3D?line=0'>1</a>\u001b[0m \u001b[39m# it seems like the metric is just subtracting the predictions from the ys, but im confused because are the ys not like passed in as context?\u001b[39;00m\n\u001b[1;32m      <a href='vscode-notebook-cell://wsl%2Bubuntu/home/ryan/projects/in-context-learning-1/src/eval.ipynb#X22sdnNjb2RlLXJlbW90ZQ%3D%3D?line=1'>2</a>\u001b[0m metric \u001b[39m=\u001b[39m task\u001b[39m.\u001b[39mget_metric()\n\u001b[0;32m----> <a href='vscode-notebook-cell://wsl%2Bubuntu/home/ryan/projects/in-context-learning-1/src/eval.ipynb#X22sdnNjb2RlLXJlbW90ZQ%3D%3D?line=2'>3</a>\u001b[0m loss \u001b[39m=\u001b[39m metric(pred, ys)\u001b[39m.\u001b[39mnumpy()\n\u001b[1;32m      <a href='vscode-notebook-cell://wsl%2Bubuntu/home/ryan/projects/in-context-learning-1/src/eval.ipynb#X22sdnNjb2RlLXJlbW90ZQ%3D%3D?line=3'>4</a>\u001b[0m randomized_loss \u001b[39m=\u001b[39m metric(randomized_pred, ys)\u001b[39m.\u001b[39mnumpy()\n\u001b[1;32m      <a href='vscode-notebook-cell://wsl%2Bubuntu/home/ryan/projects/in-context-learning-1/src/eval.ipynb#X22sdnNjb2RlLXJlbW90ZQ%3D%3D?line=4'>5</a>\u001b[0m \u001b[39m# randomized_loss_w_random = metric(randomized_pred, randomized_ys).numpy()\u001b[39;00m\n",
      "\u001b[0;31mNameError\u001b[0m: name 'pred' is not defined"
     ]
    }
   ],
   "source": [
    "# it seems like the metric is just subtracting the predictions from the ys, but im confused because are the ys not like passed in as context?\n",
    "metric = task.get_metric()\n",
    "loss = metric(pred, ys).numpy()\n",
    "randomized_loss = metric(randomized_pred, ys).numpy()\n",
    "# randomized_loss_w_random = metric(randomized_pred, randomized_ys).numpy()\n",
    "\n",
    "sparsity = conf.training.task_kwargs.sparsity if \"sparsity\" in conf.training.task_kwargs else None\n",
    "baseline = {\n",
    "    \"linear_regression\": n_dims,\n",
    "    \"sparse_linear_regression\": sparsity,\n",
    "    \"relu_2nn_regression\": n_dims,\n",
    "    \"decision_tree\": 1,\n",
    "}[conf.training.task]\n",
    "\n",
    "plt.plot(loss.mean(axis=0), lw=2, label=\"Transformer\")\n",
    "plt.axhline(baseline, ls=\"--\", color=\"gray\", label=\"zero estimator\")\n",
    "plt.xlabel(\"# in-context examples\")\n",
    "plt.ylabel(\"squared error\")\n",
    "plt.legend()\n",
    "plt.show()\n",
    "save_current_figure(fig_output_dir, \"eval_on_transformer\")\n",
    "\n",
    "if (SEQ):\n",
    "    num_random = 4\n",
    "\n",
    "    for randomized_pred in randomized_pred_array:\n",
    "        randomized_loss = metric(randomized_pred, ys).numpy()\n",
    "        \n",
    "        plt.plot(randomized_loss.mean(axis=0), lw=2, label=\"Transformer with \" + str(num_random) +  \" randomized context outputs\")\n",
    "        plt.axhline(baseline, ls=\"--\", color=\"gray\", label=\"zero estimator\")\n",
    "        plt.xlabel(\"# in-context examples\")\n",
    "        plt.ylabel(\"squared error\")\n",
    "        plt.legend()\n",
    "        plt.show()\n",
    "        save_current_figure(fig_output_dir, \"eval_on_transformer_\" + str(num_random) + \"_randomized_context\")\n",
    "\n",
    "        \n",
    "\n",
    "# plt.plot(randomized_loss_w_random.mean(axis=0), lw=2, label=\"Transformer with randomized context\")\n",
    "# plt.axhline(baseline, ls=\"--\", color=\"gray\", label=\"zero estimator\")\n",
    "# plt.xlabel(\"# in-context examples\")\n",
    "# plt.ylabel(\"squared error\")\n",
    "# plt.legend()\n",
    "# plt.show()"
   ]
  },
  {
   "cell_type": "markdown",
   "id": "eae775a1",
   "metadata": {},
   "source": [
    "As an exploration example, let's see how robust the model is to doubling all the inputs."
   ]
  },
  {
   "cell_type": "code",
   "execution_count": null,
   "id": "a58e04e4",
   "metadata": {},
   "outputs": [
    {
     "name": "stdout",
     "output_type": "stream",
     "text": [
      "torch.Size([64, 22, 256])\n"
     ]
    }
   ],
   "source": [
    "xs2 = 2 * xs\n",
    "ys2 = task.evaluate(xs2)\n",
    "with torch.no_grad():\n",
    "    pred2 = model(xs2, ys2)"
   ]
  },
  {
   "cell_type": "code",
   "execution_count": null,
   "id": "7ea71ba5",
   "metadata": {},
   "outputs": [
    {
     "data": {
      "image/png": "[encoded data removed]",
      "text/plain": [
       "<Figure size 640x480 with 1 Axes>"
      ]
     },
     "metadata": {},
     "output_type": "display_data"
    }
   ],
   "source": [
    "loss2 = metric(pred2, ys2).numpy()\n",
    "\n",
    "plt.plot(loss.mean(axis=0), lw=2, label=\"Transformer\")\n",
    "plt.plot(loss2.mean(axis=0) / 4, lw=2, label=\"Transformer on doubled inputs\")\n",
    "plt.axhline(baseline, ls=\"--\", color=\"gray\", label=\"zero estimator\")\n",
    "plt.xlabel(\"# in-context examples\")\n",
    "plt.ylabel(\"squared error\")\n",
    "plt.legend()\n",
    "plt.show()\n",
    "save_current_figure(fig_output_dir, \"eval_on_transformer_with_doubled_inputs\")"
   ]
  },
  {
   "cell_type": "markdown",
   "id": "021f118e",
   "metadata": {},
   "source": [
    "The error does increase, especially when the number of in-context examples exceeds the dimension, but the model is still relatively accurate."
   ]
  },
  {
   "cell_type": "code",
   "execution_count": null,
   "id": "c3dc9cc8",
   "metadata": {},
   "outputs": [],
   "source": []
  }
 ],
 "metadata": {
  "kernelspec": {
   "display_name": "Python 3 (ipykernel)",
   "language": "python",
   "name": "python3"
  },
  "language_info": {
   "codemirror_mode": {
    "name": "ipython",
    "version": 3
   },
   "file_extension": ".py",
   "mimetype": "text/x-python",
   "name": "python",
   "nbconvert_exporter": "python",
   "pygments_lexer": "ipython3",
   "version": "3.8.12"
  }
 },
 "nbformat": 4,
 "nbformat_minor": 5
}
